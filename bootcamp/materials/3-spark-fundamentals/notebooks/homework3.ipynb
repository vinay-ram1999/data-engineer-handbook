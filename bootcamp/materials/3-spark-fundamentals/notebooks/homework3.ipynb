{
 "cells": [
  {
   "cell_type": "code",
   "execution_count": 1,
   "id": "c7d18dd5-dc40-4dff-9cf8-c0253edf7f77",
   "metadata": {},
   "outputs": [
    {
     "name": "stderr",
     "output_type": "stream",
     "text": [
      "25/01/31 00:43:22 WARN SparkSession: Using an existing Spark session; only runtime SQL configurations will take effect.\n"
     ]
    }
   ],
   "source": [
    "from pyspark.sql.functions import broadcast, split, lit\n",
    "from pyspark.sql.functions import expr, col, avg, count, count_distinct\n",
    "from pyspark.sql import SparkSession\n",
    "\n",
    "spark = SparkSession.builder.appName(\"bootcamp\").getOrCreate()"
   ]
  },
  {
   "cell_type": "code",
   "execution_count": 2,
   "id": "a00e3a28-ea0a-4178-bd80-509cf4732b33",
   "metadata": {},
   "outputs": [
    {
     "name": "stderr",
     "output_type": "stream",
     "text": [
      "                                                                                \r"
     ]
    }
   ],
   "source": [
    "matches = spark.read.option(\"header\", \"true\").option(\"inferSchema\", \"true\").csv(\"/home/iceberg/data/matches.csv\")\n",
    "match_details = spark.read.option(\"header\", \"true\").option(\"inferSchema\", \"true\").csv(\"/home/iceberg/data/match_details.csv\")\n",
    "medals_matches_players = spark.read.option(\"header\", \"true\").option(\"inferSchema\", \"true\").csv(\"/home/iceberg/data/medals_matches_players.csv\")\n",
    "medals = spark.read.option(\"header\", \"true\").option(\"inferSchema\", \"true\").csv(\"/home/iceberg/data/medals.csv\")\n",
    "maps = spark.read.option(\"header\", \"true\").option(\"inferSchema\", \"true\").csv(\"/home/iceberg/data/maps.csv\")"
   ]
  },
  {
   "cell_type": "code",
   "execution_count": 3,
   "id": "8b34764c-bf33-4f60-a583-32f2f88854f3",
   "metadata": {},
   "outputs": [],
   "source": [
    "matches_bucketed_DDL = \"\"\"\n",
    "CREATE TABLE IF NOT EXISTS bootcamp.matches_bucketed (\n",
    "     match_id STRING,\n",
    "     mapid STRING,\n",
    "     is_team_game BOOLEAN,\n",
    "     playlist_id STRING,\n",
    "     completion_date TIMESTAMP\n",
    " )\n",
    " USING iceberg\n",
    " PARTITIONED BY (bucket(16, match_id));\n",
    "\"\"\"\n",
    "\n",
    "match_details_bucketed_DDL = \"\"\"\n",
    "CREATE TABLE IF NOT EXISTS bootcamp.match_details_bucketed (\n",
    "     match_id STRING,\n",
    "     player_gamertag STRING,\n",
    "     player_total_kills INTEGER,\n",
    "     player_total_deaths INTEGER\n",
    " )\n",
    " USING iceberg\n",
    " PARTITIONED BY (bucket(16, match_id));\n",
    "\"\"\"\n",
    "\n",
    "medals_matches_players_bucketed_DDL = \"\"\"\n",
    "CREATE TABLE IF NOT EXISTS bootcamp.medals_matches_players_bucketed (\n",
    "    match_id STRING,\n",
    "    player_gamertag STRING,\n",
    "    medal_id BIGINT,\n",
    "    count INTEGER\n",
    " )\n",
    " USING iceberg\n",
    " PARtITIONED BY (bucket(16, match_id));\n",
    "\"\"\""
   ]
  },
  {
   "cell_type": "code",
   "execution_count": 4,
   "id": "6982499b-3436-45e1-b409-4d2d30b3b647",
   "metadata": {},
   "outputs": [
    {
     "data": {
      "text/plain": [
       "DataFrame[]"
      ]
     },
     "execution_count": 4,
     "metadata": {},
     "output_type": "execute_result"
    }
   ],
   "source": [
    "spark.sql(\"\"\"DROP TABLE IF EXISTS bootcamp.matches_bucketed\"\"\")\n",
    "spark.sql(matches_bucketed_DDL)\n",
    "\n",
    "spark.sql(\"\"\"DROP TABLE IF EXISTS bootcamp.match_details_bucketed\"\"\")\n",
    "spark.sql(match_details_bucketed_DDL)\n",
    "\n",
    "spark.sql(\"\"\"DROP TABLE IF EXISTS bootcamp.medals_matches_players_bucketed\"\"\")\n",
    "spark.sql(medals_matches_players_bucketed_DDL)"
   ]
  },
  {
   "cell_type": "code",
   "execution_count": 5,
   "id": "95a6d6f1-f1da-4c31-845b-aadbce438cc6",
   "metadata": {},
   "outputs": [
    {
     "name": "stderr",
     "output_type": "stream",
     "text": [
      "                                                                                \r"
     ]
    }
   ],
   "source": [
    "matches.select(col(\"match_id\"), col(\"mapid\"), col(\"is_team_game\"), col(\"playlist_id\"), col(\"completion_date\")) \\\n",
    "    .write.mode(\"append\") \\\n",
    "    .bucketBy(16, \"match_id\").saveAsTable(\"bootcamp.matches_bucketed\")"
   ]
  },
  {
   "cell_type": "code",
   "execution_count": 6,
   "id": "1d962917-55ca-41f7-aa8e-f02bf4d5aa80",
   "metadata": {},
   "outputs": [
    {
     "name": "stderr",
     "output_type": "stream",
     "text": [
      "                                                                                \r"
     ]
    }
   ],
   "source": [
    "match_details.select(col(\"match_id\"), col(\"player_gamertag\"), col(\"player_total_kills\"), col(\"player_total_deaths\")) \\\n",
    "    .write.mode(\"append\") \\\n",
    "    .bucketBy(16, \"match_id\").saveAsTable(\"bootcamp.match_details_bucketed\")"
   ]
  },
  {
   "cell_type": "code",
   "execution_count": 7,
   "id": "10cc6bdb-8881-478b-a53d-1c5d2800f9d4",
   "metadata": {},
   "outputs": [
    {
     "name": "stderr",
     "output_type": "stream",
     "text": [
      "                                                                                \r"
     ]
    }
   ],
   "source": [
    "medals_matches_players.select(col(\"match_id\"), col(\"player_gamertag\"), col(\"medal_id\"), col(\"count\")) \\\n",
    "    .write.mode(\"append\") \\\n",
    "    .bucketBy(16, \"match_id\").saveAsTable(\"bootcamp.medals_matches_players_bucketed\")"
   ]
  },
  {
   "cell_type": "code",
   "execution_count": 8,
   "id": "3d13d14f-c79a-4c1d-b5d4-52d088d4768b",
   "metadata": {},
   "outputs": [],
   "source": [
    "matches_bucketed = spark.read.table(\"bootcamp.matches_bucketed\")\n",
    "match_details_bucketed = spark.read.table(\"bootcamp.match_details_bucketed\")\n",
    "medals_matches_players_bucketed = spark.read.table(\"bootcamp.medals_matches_players_bucketed\")\n",
    "\n",
    "bucketed_join_df = matches_bucketed \\\n",
    "    .join(match_details_bucketed, \"match_id\", \"left\") \\\n",
    "    .join(medals_matches_players_bucketed, [\"match_id\", \"player_gamertag\"], \"left\")"
   ]
  },
  {
   "cell_type": "code",
   "execution_count": 9,
   "id": "cff8011e-fc83-45ba-8808-469527c35143",
   "metadata": {},
   "outputs": [
    {
     "name": "stderr",
     "output_type": "stream",
     "text": [
      "                                                                                \r"
     ]
    },
    {
     "data": {
      "text/plain": [
       "[Row(match_id='467baba8-a360-459c-b508-c034d141acb9', player_gamertag='Stormbane321', mapid='cebd854f-f206-11e4-b46e-24be05e24f7e', is_team_game=None, playlist_id='892189e9-d712-4bdb-afa7-1ccab43fbed4', completion_date=datetime.datetime(2016, 1, 27, 0, 0), player_total_kills=16, player_total_deaths=5, medal_id=3001183151, count=1),\n",
       " Row(match_id='467baba8-a360-459c-b508-c034d141acb9', player_gamertag='Stormbane321', mapid='cebd854f-f206-11e4-b46e-24be05e24f7e', is_team_game=None, playlist_id='892189e9-d712-4bdb-afa7-1ccab43fbed4', completion_date=datetime.datetime(2016, 1, 27, 0, 0), player_total_kills=16, player_total_deaths=5, medal_id=3261908037, count=11),\n",
       " Row(match_id='467baba8-a360-459c-b508-c034d141acb9', player_gamertag='Stormbane321', mapid='cebd854f-f206-11e4-b46e-24be05e24f7e', is_team_game=None, playlist_id='892189e9-d712-4bdb-afa7-1ccab43fbed4', completion_date=datetime.datetime(2016, 1, 27, 0, 0), player_total_kills=16, player_total_deaths=5, medal_id=3653057799, count=1),\n",
       " Row(match_id='467baba8-a360-459c-b508-c034d141acb9', player_gamertag='Stormbane321', mapid='cebd854f-f206-11e4-b46e-24be05e24f7e', is_team_game=None, playlist_id='892189e9-d712-4bdb-afa7-1ccab43fbed4', completion_date=datetime.datetime(2016, 1, 27, 0, 0), player_total_kills=16, player_total_deaths=5, medal_id=2078758684, count=2),\n",
       " Row(match_id='467baba8-a360-459c-b508-c034d141acb9', player_gamertag='Stormbane321', mapid='cebd854f-f206-11e4-b46e-24be05e24f7e', is_team_game=None, playlist_id='892189e9-d712-4bdb-afa7-1ccab43fbed4', completion_date=datetime.datetime(2016, 1, 27, 0, 0), player_total_kills=16, player_total_deaths=5, medal_id=2287626681, count=1)]"
      ]
     },
     "execution_count": 9,
     "metadata": {},
     "output_type": "execute_result"
    }
   ],
   "source": [
    "bucketed_join_df.take(5)"
   ]
  },
  {
   "cell_type": "code",
   "execution_count": 10,
   "id": "b91d9c1e-91da-4d8b-86a0-104bdee78892",
   "metadata": {},
   "outputs": [],
   "source": [
    "spark.conf.set(\"spark.sql.autoBroadcastJoinThreshold\", \"-1\")"
   ]
  },
  {
   "cell_type": "code",
   "execution_count": 11,
   "id": "948a0f30-653b-44f4-8816-90ceceae0f7a",
   "metadata": {},
   "outputs": [],
   "source": [
    "final_df = bucketed_join_df \\\n",
    "    .join(broadcast(medals.select(col(\"medal_id\"), col(\"sprite_uri\"), col(\"classification\"))), \"medal_id\", \"inner\") \\\n",
    "    .join(broadcast(maps.select(col(\"mapid\"), col(\"name\"))), \"mapid\", \"inner\")"
   ]
  },
  {
   "cell_type": "code",
   "execution_count": 12,
   "id": "abbd0fd9-5490-4608-9b4b-c1d0ab04730b",
   "metadata": {},
   "outputs": [
    {
     "name": "stderr",
     "output_type": "stream",
     "text": [
      "                                                                                \r"
     ]
    },
    {
     "name": "stdout",
     "output_type": "stream",
     "text": [
      "+---------------+---------+\n",
      "|player_gamertag|avg_kills|\n",
      "+---------------+---------+\n",
      "|   gimpinator14|    109.0|\n",
      "+---------------+---------+\n",
      "only showing top 1 row\n",
      "\n",
      "None\n"
     ]
    },
    {
     "name": "stderr",
     "output_type": "stream",
     "text": [
      "                                                                                \r"
     ]
    },
    {
     "name": "stdout",
     "output_type": "stream",
     "text": [
      "+--------------------+-----+\n",
      "|         playlist_id|count|\n",
      "+--------------------+-----+\n",
      "|f72e0ef0-7c4a-430...| 7640|\n",
      "+--------------------+-----+\n",
      "only showing top 1 row\n",
      "\n",
      "None\n"
     ]
    },
    {
     "name": "stderr",
     "output_type": "stream",
     "text": [
      "                                                                                \r"
     ]
    },
    {
     "name": "stdout",
     "output_type": "stream",
     "text": [
      "+--------------------+-----+\n",
      "|               mapid|count|\n",
      "+--------------------+-----+\n",
      "|c7edbf0f-f206-11e...| 7032|\n",
      "+--------------------+-----+\n",
      "only showing top 1 row\n",
      "\n",
      "None\n"
     ]
    },
    {
     "name": "stderr",
     "output_type": "stream",
     "text": [
      "[Stage 108:>                                                        (0 + 8) / 8]\r"
     ]
    },
    {
     "name": "stdout",
     "output_type": "stream",
     "text": [
      "+--------------------+-----+\n",
      "|               mapid|count|\n",
      "+--------------------+-----+\n",
      "|c7edbf0f-f206-11e...| 6734|\n",
      "+--------------------+-----+\n",
      "only showing top 1 row\n",
      "\n",
      "None\n"
     ]
    },
    {
     "name": "stderr",
     "output_type": "stream",
     "text": [
      "                                                                                \r"
     ]
    }
   ],
   "source": [
    "player_avg_kills = final_df.groupBy(\"player_gamertag\") \\\n",
    "    .agg(avg(\"player_total_kills\").alias(\"avg_kills\")) \\\n",
    "    .orderBy(col(\"avg_kills\").desc())\n",
    "\n",
    "playlist_count = final_df.groupBy(\"playlist_id\") \\\n",
    "    .agg(count_distinct(\"match_id\").alias(\"count\")) \\\n",
    "    .orderBy(col(\"count\").desc())\n",
    "\n",
    "map_count = final_df.groupBy(\"mapid\") \\\n",
    "    .agg(count_distinct(\"match_id\").alias(\"count\")) \\\n",
    "    .orderBy(col(\"count\").desc())\n",
    "\n",
    "killing_spree_count = final_df.filter(col(\"classification\") == \"KillingSpree\") \\\n",
    "    .groupBy(\"mapid\") \\\n",
    "    .agg(count(\"player_gamertag\").alias(\"count\")) \\\n",
    "    .orderBy(col(\"count\").desc())\n",
    "\n",
    "print(player_avg_kills.show(1))\n",
    "print(playlist_count.show(1))\n",
    "print(map_count.show(1))\n",
    "print(killing_spree_count.show(1))"
   ]
  },
  {
   "cell_type": "code",
   "execution_count": 13,
   "id": "8ad017e4-1804-4470-899c-258aa9de8f48",
   "metadata": {},
   "outputs": [
    {
     "name": "stderr",
     "output_type": "stream",
     "text": [
      "                                                                                \r"
     ]
    }
   ],
   "source": [
    "final_df.write.mode(\"overwrite\") \\\n",
    "    .option(\"overwriteSchema\", \"true\") \\\n",
    "    .saveAsTable(\"bootcamp.combined_data\")"
   ]
  },
  {
   "cell_type": "code",
   "execution_count": 14,
   "id": "62014332-24b9-45ef-a075-b99949a8e8c1",
   "metadata": {},
   "outputs": [
    {
     "name": "stderr",
     "output_type": "stream",
     "text": [
      "                                                                                \r"
     ]
    }
   ],
   "source": [
    "final_df.sortWithinPartitions(col(\"playlist_id\"), col(\"mapid\")) \\\n",
    "    .write.mode(\"overwrite\") \\\n",
    "    .option(\"overwriteSchema\", \"true\") \\\n",
    "    .saveAsTable(\"bootcamp.combined_data_sorted\")"
   ]
  },
  {
   "cell_type": "code",
   "execution_count": 15,
   "id": "da82c14e-6df0-4bea-85c7-91b799a42a04",
   "metadata": {},
   "outputs": [
    {
     "name": "stdout",
     "output_type": "stream",
     "text": [
      "+-------+---------+--------+\n",
      "|   size|num_files|unsorted|\n",
      "+-------+---------+--------+\n",
      "|6619223|        8|unsorted|\n",
      "|6020927|        8|  sorted|\n",
      "+-------+---------+--------+\n",
      "\n"
     ]
    }
   ],
   "source": [
    "query = \"\"\"\n",
    "SELECT SUM(file_size_in_bytes) as size, COUNT(1) as num_files, 'unsorted' \n",
    "FROM demo.bootcamp.combined_data.files\n",
    "\n",
    "UNION ALL\n",
    "\n",
    "SELECT SUM(file_size_in_bytes) as size, COUNT(1) as num_files, 'sorted' \n",
    "FROM demo.bootcamp.combined_data_sorted.files\n",
    "\"\"\"\n",
    "\n",
    "spark.sql(query).show()"
   ]
  }
 ],
 "metadata": {
  "kernelspec": {
   "display_name": "Python 3 (ipykernel)",
   "language": "python",
   "name": "python3"
  },
  "language_info": {
   "codemirror_mode": {
    "name": "ipython",
    "version": 3
   },
   "file_extension": ".py",
   "mimetype": "text/x-python",
   "name": "python",
   "nbconvert_exporter": "python",
   "pygments_lexer": "ipython3",
   "version": "3.9.18"
  }
 },
 "nbformat": 4,
 "nbformat_minor": 5
}
